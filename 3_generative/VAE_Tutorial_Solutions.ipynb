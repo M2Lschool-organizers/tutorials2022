{
  "cells": [
    {
      "cell_type": "markdown",
      "metadata": {
        "id": "AnxFqR5uQDV2"
      },
      "source": [
        "Contact: {fviola@google.com, rakicevic@google.com}\n",
        "\n",
        "# Contents\n",
        "- Setup\n",
        " - Download and install packages\n",
        " - Imports\n",
        "- Dataset\n",
        " - Import data\n",
        " - Helper functions\n",
        "- Amortized Variational Inference\n",
        " - Posterior function modelling\n",
        " - Losses\n",
        " - Training VAEs using constraint optimization (GECO)\n",
        "- Practical Excercise\n",
        " - Model Implementations\n",
        " - Tasks and Conclusions"
      ]
    },
    {
      "cell_type": "markdown",
      "metadata": {
        "id": "TM_VWHUaQRN_"
      },
      "source": [
        "---\n",
        "# Set up\n",
        "\n",
        "Run the following three cells to set up the environment, import basic dependencies and define helper necessary functions.\n"
      ]
    },
    {
      "cell_type": "code",
      "execution_count": 1,
      "metadata": {
        "colab": {
          "base_uri": "https://localhost:8080/"
        },
        "id": "AR_apzVWQVKx",
        "outputId": "b5c45389-3aee-48bc-afe2-b464c71d9a6b"
      },
      "outputs": [
        {
          "output_type": "stream",
          "name": "stdout",
          "text": [
            "\u001b[K     |████████████████████████████████| 76 kB 4.2 MB/s \n",
            "\u001b[K     |████████████████████████████████| 145 kB 13.4 MB/s \n",
            "\u001b[K     |████████████████████████████████| 272 kB 10.9 MB/s \n",
            "\u001b[K     |████████████████████████████████| 342 kB 11.2 MB/s \n",
            "\u001b[?25hAll packages installed!\n"
          ]
        }
      ],
      "source": [
        "# @title Download and install packages\n",
        "! pip install chex -q\n",
        "! pip install optax -q\n",
        "! pip install distrax -q\n",
        "! pip install dm_haiku -q\n",
        "print(\"All packages installed!\")"
      ]
    },
    {
      "cell_type": "code",
      "execution_count": 2,
      "metadata": {
        "id": "7PJkrCcHQedf",
        "colab": {
          "base_uri": "https://localhost:8080/"
        },
        "outputId": "1de7a842-e818-4af5-9bb0-66c28dafa286"
      },
      "outputs": [
        {
          "output_type": "stream",
          "name": "stderr",
          "text": [
            "/usr/local/lib/python3.7/dist-packages/haiku/_src/data_structures.py:37: FutureWarning: jax.tree_structure is deprecated, and will be removed in a future release. Use jax.tree_util.tree_structure instead.\n",
            "  PyTreeDef = type(jax.tree_structure(None))\n"
          ]
        }
      ],
      "source": [
        "# @title Imports\n",
        "import time\n",
        "import functools\n",
        "from typing import Any, Iterator, Mapping, Optional, Sequence, Tuple\n",
        "\n",
        "import chex\n",
        "import distrax\n",
        "import haiku as hk\n",
        "import jax\n",
        "import jax.numpy as jnp\n",
        "from matplotlib import pyplot as plt\n",
        "import numpy as np\n",
        "import optax\n",
        "import tensorflow as tf\n",
        "import tensorflow_datasets as tfds\n",
        "from tensorflow_probability.substrates import jax as tfp\n",
        "tfd = tfp.distributions"
      ]
    },
    {
      "cell_type": "markdown",
      "metadata": {
        "id": "fvUGs6ToYwU7"
      },
      "source": [
        "---\n",
        "# Dataset\n",
        "\n",
        "In this tutorial we will use a small subset the MNIST dataset. We will load the standard MNIST dataset from which we select a few digits, and small number of sample for each digit, e.g. 3 labels (numbers 0, 6 and 8) and 3 samples for a\n",
        "total of 9 datapoints. This will make training fast and visualization easy."
      ]
    },
    {
      "cell_type": "code",
      "execution_count": 3,
      "metadata": {
        "id": "2HubuSgCYyy6",
        "cellView": "form"
      },
      "outputs": [],
      "source": [
        "# @title Dataset loading and visualisation helper functions\n",
        "# @markdown We can use TensorFlow data (`tfds`) to download MNIST from the cloud. \n",
        "# @markdown <br>[Chex](https://github.com/deepmind/chex) is a library of utilities helping to write more reliable JAX code.\n",
        "# @markdown Within `chex` you will find a `dataclass` object definition, which will automatically register new class instances into JAX, so you can easily apply JAX's tree utilities out of the box. We will use it to define a labelled data object type.\n",
        "\n",
        "@functools.lru_cache()\n",
        "def get_raw_data(data_split='train'):\n",
        "  \"\"\"Load and preproces the MNIST dataset.\"\"\"\n",
        "  def _preprocess(sample):\n",
        "    image = tf.cast(sample[\"image\"], tf.float32) / 255.0\n",
        "    id = sample[\"label\"]\n",
        "    return image, id\n",
        " \n",
        "  mnist = tfds.load(\"mnist\")\n",
        "\n",
        "  ds = mnist[data_split]\n",
        "  ds = ds.map(map_func=_preprocess, \n",
        "              num_parallel_calls=tf.data.experimental.AUTOTUNE)\n",
        "  ds = ds.cache()\n",
        "  ds = ds.shuffle(100000, seed=0).batch(2048)\n",
        "  images, labels = next(iter(tfds.as_numpy(ds)))\n",
        "\n",
        "  data_by_label = []\n",
        "  for i in range(10):\n",
        "    data_by_label.append(images[labels==i])\n",
        "  min_num = min([d.shape[0] for d in data_by_label])\n",
        "  return np.stack([d[:min_num] for d in data_by_label])\n",
        "\n",
        "\n",
        "@chex.dataclass(frozen=True)\n",
        "class Dataset:\n",
        "  image: chex.Array\n",
        "  label: chex.Array\n",
        "\n",
        "\n",
        "def get_data_slice(data, labels=(3, 7, 2), num_samples=4):\n",
        "  \"\"\"Extract only num_samples of the data for the given labels.\"\"\"\n",
        "  labels = np.array(labels)\n",
        "  data_slice = np.reshape(data[labels, :num_samples], (-1,) + data.shape[-3:])\n",
        "  batch_size = data_slice.shape[0]\n",
        "  labels = np.tile(\n",
        "      np.array(labels).reshape(-1, 1), [1, num_samples]).reshape([batch_size])\n",
        "  return Dataset(image=data_slice, label=labels)\n",
        "\n",
        "\n",
        "def gallery(array, ncols=None):\n",
        "  \"\"\"Rearrange an array of images into a tiled layout.\"\"\"\n",
        "  nindex, height, width, num_channels = array.shape  \n",
        "  if ncols is None:\n",
        "    ncols = int(np.sqrt(nindex))    \n",
        "  nrows = int(np.ceil(nindex/ncols))  \n",
        "  pad = np.zeros((nrows*ncols-nindex, height, width, num_channels))\n",
        "  array = np.concatenate([array, pad], axis=0)\n",
        "  result = (array.reshape(nrows, ncols, height, width, num_channels)\n",
        "            .swapaxes(1,2)\n",
        "            .reshape(height*nrows, width*ncols, num_channels))\n",
        "  return result\n",
        "\n",
        "def imshow(x, ax=None, title=''):\n",
        "  \"\"\"Shorthand for imshow.\"\"\"\n",
        "  if ax is None:\n",
        "    show_image = plt.imshow\n",
        "    set_axis = plt.axis\n",
        "    set_title = plt.title\n",
        "  else:\n",
        "    show_image = ax.imshow\n",
        "    set_axis = ax.axis\n",
        "    set_title = ax.set_title\n",
        "    \n",
        "  show_image(x[..., 0], cmap='gist_yarg', interpolation=None)\n",
        "  set_axis('off')\n",
        "  set_title(title)\n"
      ]
    },
    {
      "cell_type": "code",
      "execution_count": 4,
      "metadata": {
        "colab": {
          "base_uri": "https://localhost:8080/",
          "height": 331,
          "referenced_widgets": [
            "a7e5ec4a495a477d819e7fcd8966e108",
            "7ea8731716a04c8ba458ccde7fca6991",
            "7f2452907bb54f09941a5590f856cc36",
            "81dd84dccf964cb5aca56c77e8639efe",
            "0568f9576d2e4d88a41af36014b225c5",
            "5cc7238730514a7eb2c6509003382e57",
            "41e6bbffbd3b4280887f0574f66deb53",
            "072ccaa352014d54b149f70a77d054bb",
            "fc45922dfefa4a44af2aaa73fb6df5d1",
            "bfe213e0af5e4cd4bcd64ae596d30ed2",
            "49e4b46102bf4daaaefe923f8d3fd229"
          ]
        },
        "id": "Y_G10KjaRnuR",
        "outputId": "6ae400b4-f5e7-45a5-8c22-3f19821adcec"
      },
      "outputs": [
        {
          "output_type": "stream",
          "name": "stdout",
          "text": [
            "\u001b[1mDownloading and preparing dataset 11.06 MiB (download: 11.06 MiB, generated: 21.00 MiB, total: 32.06 MiB) to ~/tensorflow_datasets/mnist/3.0.1...\u001b[0m\n"
          ]
        },
        {
          "output_type": "display_data",
          "data": {
            "text/plain": [
              "Dl Completed...:   0%|          | 0/4 [00:00<?, ? file/s]"
            ],
            "application/vnd.jupyter.widget-view+json": {
              "version_major": 2,
              "version_minor": 0,
              "model_id": "a7e5ec4a495a477d819e7fcd8966e108"
            }
          },
          "metadata": {}
        },
        {
          "output_type": "stream",
          "name": "stdout",
          "text": [
            "\u001b[1mDataset mnist downloaded and prepared to ~/tensorflow_datasets/mnist/3.0.1. Subsequent calls will reuse this data.\u001b[0m\n"
          ]
        },
        {
          "output_type": "display_data",
          "data": {
            "text/plain": [
              "<Figure size 432x288 with 1 Axes>"
            ],
            "image/png": "[encoded data removed]"
          },
          "metadata": {
            "needs_background": "light"
          }
        }
      ],
      "source": [
        "# Load and visualise a sample from the dataset\n",
        "raw_data = get_raw_data()\n",
        "data = get_data_slice(raw_data, labels=(0, 8, 6), num_samples=3)\n",
        "imshow(gallery(data.image), title='Example dataset')"
      ]
    },
    {
      "cell_type": "markdown",
      "metadata": {
        "id": "axcd8Xt_Yz6C"
      },
      "source": [
        "---\n",
        "# Amortized variational inference (Variational Autoencoders)"
      ]
    },
    {
      "cell_type": "markdown",
      "metadata": {
        "id": "sjRhVIR1H4nQ"
      },
      "source": [
        "Consider a joint distribution $p(x, z)$ over a set of latent variables $z \\in \\mathcal{Z}$ and observed variable $x \\in \\mathcal{X}$ (for instance, the images of our dataset).\n",
        "\n",
        "Making inference over the observed variable $x$ involves computing the posterior distribution $p(z|x) = \\frac{p(x,z)}{p(x)}$ which is often intractable to compute, as the _marginal likelihood_ $p(x) = \\int_z p(x, z)dz$ requires integrating over a potentially exponential number of configurations of $z$.\n",
        "\n",
        "**Variational Inference (VI)** can be used to approximate the posterior $p(z|x)$ in a tractable fashion. VI casts the problem of computing the posterior as an optimization problem introducing a family of tractable (simpler) distribution $\\mathcal{Q}$ parametrized by $\\phi$. The objective is to find the best approximation of the true posterior $q_{\\phi^*} \\in \\mathcal{Q}$ that minimizes the Kullback-Leibler (KL) divergence with the exact prosterior:\n",
        "\n",
        "$$\n",
        "q_{\\phi^*}(z) = \\underset{q_{\\phi}}{arg min} \\ \\ D_{KL}(q_{\\phi}(z) || p(z|x))\n",
        "$$\n",
        "\n",
        "$q_{\\phi^*}(z)$ can serve as a proxy for the true posterior distribution. Note that the solution depends on the speciﬁc value of the observed (evidence) variables $x_i$ we are conditioning on, so computing the posterior requires solving an optimization problem for each sample independently.\n",
        "\n",
        "In this tutorial, we use a much more efficient approach. Rather than solving an optimization process per data point, we can **amortize the cost of inference** by leveraging the power of function approximation and learn a deterministic mapping to predict the distributional variables as a function of $x$. Specifically, the posterior parameters for $x_i$ will be the output of a *learned* function $f_\\theta(x_i)$, where $\\theta$ are parameters shared across all data points.\n",
        "\n",
        "\n",
        "<img src=\"https://lilianweng.github.io/posts/2018-08-12-vae/autoencoder-architecture.png\" alt=\"VAE\" width=\"800\"/>\n",
        "\n",
        "[Image credit: [lilianweng.github.io](https://lilianweng.github.io/posts/2018-08-12-vae/)]\n",
        "\n",
        "For more information, see:\n",
        "* [Kingma and Welling, (2013), Auto-Encoding Variational Bayes](https://arxiv.org/abs/1312.6114),\n",
        "* [Kingma and Welling, (2019), An Introduction to Variational Autoencoders](https://arxiv.org/abs/1906.02691)\n",
        "  "
      ]
    },
    {
      "cell_type": "markdown",
      "metadata": {
        "id": "GsDtmO1llaUe"
      },
      "source": [
        "## Posterior function modelling"
      ]
    },
    {
      "cell_type": "markdown",
      "metadata": {
        "id": "vFj4HYC9YcxN"
      },
      "source": [
        "In this exercise we will use two models for the posterior distribution $q_{\\phi}$, which we introduce next."
      ]
    },
    {
      "cell_type": "markdown",
      "metadata": {
        "id": "SBnVSo9IlcbY"
      },
      "source": [
        "### Gaussian posterior \n",
        "\n",
        "The simplest posterior model is a diagonal Gaussian\n",
        "$q_{\\phi}(z|x) = \\mathcal{N}(z|\\mu_{\\theta}(x), diag(\\sigma^2_{\\theta}(x)))$, where $f_{\\theta}$ can be modelled e.g. using a neural network, whose outputs define the parameters  $\\phi = \\{\\mu_{\\theta}, \\sigma^2_{\\theta} \\}$ of the distribution.\n",
        "Sampling from this Gaussian is achieved employing the **reparameterization trick** that disentangles the noise source, so that the gradients can be backpropagated:\n",
        "$$\n",
        "z \\sim \\mathcal{N}(z|\\mu, \\sigma^2) \\Leftrightarrow z = \\mu + \\sigma\u000f\\epsilon, \u000f \\epsilon \\sim \\mathcal{N}(0, 1)\n",
        "$$ \n",
        "In the _Practical Exercise_ section you will implement the Gaussian posterior and prior, and train a VAE with this posterior model.\n",
        "\n",
        "<img src=\"https://lilianweng.github.io/posts/2018-08-12-vae/vae-gaussian.png\" alt=\"VAE reparameterisation trick\" width=\"800\"/>\n",
        "\n",
        "[Image credit: [lilianweng.github.io](https://lilianweng.github.io/posts/2018-08-12-vae/)]\n",
        "\n",
        "However, one prominent limitation of this VAEs instance is the the limited expressiveness of diagonal Gaussian posterior approximations and how well it can be trained to match the prior. For example, it has been observed empirically that VAEs with simple posterior models have a tendency to ignore some of the latent-variables (latent-collapse) and produce blurred reconstructions. \n",
        "<br>NOTE: We will not observe this in this tutorial, since we will use a simple 2-dimensional latent and very small dataset.\n",
        "\n",
        "\n",
        "### Flow-based posterior\n",
        "\n",
        "An ideal family of variational distributions $q_{\\phi}(z|x)$ is one that is  flexible enough to contain the true posterior as one solution.\n",
        "A **normalizing flow** describes the transformation of a probability density through a sequence of invertible mappings.\n",
        "By repeatedly applying the rule for change of variables, the initial density \"flows\" through the sequence of invertible mappings. At the end of this sequence we obtain a valid probability distribution and hence this type of flow is referred to as a normalizing flow.\n",
        "\n",
        "If we use an invertible mapping $f$ to transform a random variable $z$ with distribution $q(z)$, the resulting random variable $z' = f(z)$ has a distribution:\n",
        "\n",
        "$$\n",
        "q(z') = q(z) \\left | \\text{det} \\frac{\\partial f^{−1}}{\\partial z'} \\right | = q(z) \\left | \\text{det} \\frac{\\partial f}{\\partial z} \\right |^{−1}\n",
        "$$\n",
        "\n",
        "where the last equality can be seen by applying the chain rule (inverse function theorem) and is a property of Jacobians of invertible functions. We can construct arbitrarily\n",
        "complex densities by composing several simple maps and\n",
        "successively applying the equation above.\n",
        "\n",
        "The density $q_K(z)$ obtained by successively transforming a random variable $z_0$ with distribution $q_0$ through a chain of $K$ transformations $f_k$ is:\n",
        "\n",
        "$$\n",
        "z_K = f_K \\ \\circ \\ . . . \\ \\circ \\ f_2 \\ \\circ \\ f_1(z_0) \\\\\n",
        "\\text{ln} \\ q_K(z_K) = \\text{ln} \\ q_0(z_0) − \\sum_{k=1}^K \\text{ln} \\left | \\text{det} \\frac{\\partial f_k}{\\partial z_{k-1}} \\right |\n",
        "$$\n",
        "\n",
        "We can understand the effect of invertible flows as a sequence of expansions or contractions on the initial density. With an appropriate choice of transformations $f_K$, we can initially use simple factorized distributions such as an independent Gaussian, or Uniform, and apply normalizing flows of different lengths to obtain increasingly complex and multi-modal distributions.\n",
        "\n",
        "\n",
        "<img src=\"https://lilianweng.github.io/posts/2018-10-13-flow-models/normalizing-flow.png\" alt=\"Normalizing Flow model\" width=\"700\"/>\n",
        "\n",
        "[Image credit: [lilianweng.github.io](https://lilianweng.github.io/posts/2018-10-13-flow-models/)]\n",
        "\n",
        "For more information, see:\n",
        "* [Rezende and Mohamed, (2016), Variational Inference with Normalizing Flows](https://arxiv.org/pdf/1505.05770.pdf),"
      ]
    },
    {
      "cell_type": "markdown",
      "metadata": {
        "id": "EfJQ6IqfZEiy"
      },
      "source": [
        "## Losses\n"
      ]
    },
    {
      "cell_type": "markdown",
      "metadata": {
        "id": "fLxb_vwQKtMc"
      },
      "source": [
        "We use maximum likelihood for training, that is, ideally we would like to maximize:\n",
        "\n",
        "$$\\mathbb{E}_{x \\sim P^*}\\log p_{\\theta}(x)$$\n",
        "\n",
        "Note that $p_{\\theta}(x)$ is the marginal probability distribution $p_{\\theta}(x) = \\int p_\\theta(x, z) dz$. We can rewrite this in familiar terms as $\\int p_\\theta(x|z) p(z) dz$. However, computing (and maximizing) the above marginal is computationally infeasible.\n",
        "\n",
        "Instead, we can show:\n",
        "\n",
        "$$\\log p_{\\theta}(x) \\ge \\mathbb{E}_{z \\sim q(z|x)} \\big[\\log p_\\theta(x | z)\\big] - \\mathbb{KL}\\big(q_\\phi(z | x) || p(z)\\big)$$\n",
        "\n",
        "This right hand side is called the evidence lower bound (ELBO). Broadly speaking the term variational methods, like variational inference, refers to this technique of using an approximate posterior distribution and the ELBO; this is where Variational Autoencoder gets its name from too.\n",
        "\n",
        "In order to try to maximize the likelihood, we maximize the lower bound (ELBO) instead, using e.g. Stochastic Gradient Descent. This yields the following loss used with Variational AutoEncoders:\n",
        "\n",
        "<font size=4>\n",
        "<!-- $$ \\\\mathcal{L}(X, z) = \\\\mathbb{E}\\\\big[\\\\log P(X|z)\\\\big] - D_{KL}\\\\big[Q(z|X) \\\\big|\\\\big| P(z)\\\\big].$$ -->\n",
        "$$ \n",
        "\\mathcal{L}(x) = - \\Big( \\mathbb{E}_{z \\sim q(z|x)} \\big [ \\log p_\\theta(x | z)\\big] - \\mathbb{KL}\\big(q_\\phi(z | x) || p(z)\\big) \\Big)\n",
        "$$\n",
        "</font>\n",
        "\n",
        "<br>\n",
        "\n",
        "Therefore, training this model is called Stochastic Variational Inference.\n",
        "\n",
        "Observe that:\n",
        "* The first term encourages the model to reconstruct the input faithfully. This part is similar to the Vanilla AutoEncoder.\n",
        "* The second term can be seen as a *regularization term* of the encoder towards the prior.\n",
        "\n",
        "(The formula contains an expectation; in practice that would be approximated with one or more samples.)"
      ]
    },
    {
      "cell_type": "markdown",
      "metadata": {
        "id": "ScKnSEiEahxC"
      },
      "source": [
        "## Balancing the loss terms and constrained optimisation"
      ]
    },
    {
      "cell_type": "markdown",
      "metadata": {
        "id": "Nicij0K0hHYX"
      },
      "source": [
        "Stochastic Variational Inference can get stuck in local optima since there is a certain tension between the likelihood and the KL terms. To ease the optimization, we could use a schedule for a balance parameter $\\beta$ where the KL coefficient is slowly annealed from  to  throughout training [(Higgins et al, 2016)](https://openreview.net/pdf?id=Sy2fzU9gl). This corresponds to weight more the reconstruction term at the beginning of the training and then move towards the fully stochastic variational objective. The modified objective becomes:\n",
        "\n",
        "<font size=4>\n",
        "\n",
        "<!-- $$ \\\\mathcal{L}(X, z) = \\\\mathbb{E}\\\\big[\\\\log P(X|z)\\\\big] - D_{KL}\\\\big[Q(z|X) \\\\big|\\\\big| P(z)\\\\big].$$ -->\n",
        "\n",
        "$$ \n",
        "\\mathcal{L}(x) = - \\Big( \\mathbb{E}_{z \\sim q(z|x)} \\big [ \\log p_\\theta(x | z)\\big] - \\beta \\ \\mathbb{KL}\\big(q_\\phi(z | x) || p(z)\\big) \\Big)\n",
        "$$\n",
        "</font>\n",
        "\n",
        "<br>\n",
        "\n",
        "However, **constrained optimization** can be used to dynamically tune the relative weight of the likelihood and KL terms during optimization. This removes the need to manually tune , or create an optimization schedule, which can be problem specific.\n",
        "\n",
        "The objective now becomes:\n",
        "\n",
        "<font size=4>\n",
        "$$\n",
        "  \\text{minimize } \\mathbb{E}_{p^*(x)} \\mathbb{KL}(q(z|x)||p(z)) \n",
        "  \\\\ \\text{such that }  \\mathbb{E}_{p^*(x)} \\mathbb{E}_{q(z|x) \\log p_\\theta(x|z)} > \\kappa\n",
        "$$\n",
        "</font>\n",
        "\n",
        "<br>\n",
        "\n",
        "This can be solved using Lagrange multipliers. The objective then becomes:\n",
        "\n",
        "<font size=4>\n",
        "$$\n",
        "\\text{minimize }  \\mathbb{E}_{p^*(x)} \\mathbb{KL} \\left ( q(z|x)||p(z) \\right ) + \\lambda \\  \\Big(\\mathbb{E}_{p^*(x)} \\mathbb{E}_{q(z|x)} (\\kappa - \\log p_\\theta(x|z))\\Big)\n",
        "$$\n",
        "</font>\n",
        "\n",
        "<br>\n",
        "\n",
        "The difference compared to the KL annealing is that:\n",
        "\n",
        "* $\\lambda$ is a learned parameter - it will be learned using stochastic gradient descent, like the network parameters.  The difference is that the Lagrangian has to solve a maximization problem. You can see this intuitively: the gradient with respect to $\\lambda$ in the objective above is $\\mathbb{E}_{p^*(x)} \\mathbb{E}_{q(z|x)} (\\alpha - \\log p_\\theta(x|z))$. If $ \\mathbb{E}_{p^*(x)} \\mathbb{E}_{q(z|x)} (\\alpha - \\log p_\\theta(x|z))> 0$, the constraint is not being satisfied, so the value of the Lagrangian needs to increase. This will be done by doing gradient ascent, instead of gradient descent. Note that for $\\lambda$ to be a valid Lagrangian in a minimization problem, it has to be positive ($\\lambda$ > 0).\n",
        "\n",
        "* The practicioner has to specify the hyperparameter $\\kappa$, which determines the reconstruction quality of the model.\n",
        "\n",
        "* The $\\kappa$ coefficient is in front of the likelihood term, not the KL term. This is mainly for convenience, as it is often easier to specify the hyperparameter $\\kappa$ for the likelihood (e.g. domain specific reconstruction loss).\n",
        "\n",
        "<br>\n",
        "\n",
        "For more assumptions made by this method, see the [Karush–Kuhn–Tucker conditions](https://en.wikipedia.org/wiki/Karush%E2%80%93Kuhn%E2%80%93Tucker_conditions).\n",
        "\n",
        "For more information, see:\n",
        "* [Higgins et al, (2016), beta-VAE: Learning Basic Visual Concepts with a Constrained Variational Framework](https://openreview.net/pdf?id=Sy2fzU9gl)\n",
        "* [Rezende and Viola, (2018), Taming VAEs](https://arxiv.org/abs/1810.00597v1?)\n",
        "* [Rezende and Viola, (2018), Generalized ELBO with Constrained Optimization,\n",
        "GECO](http://bayesiandeeplearning.org/2018/papers/33.pdf)\n",
        "\n"
      ]
    },
    {
      "cell_type": "markdown",
      "metadata": {
        "id": "f-QSDYu0ZJc6"
      },
      "source": [
        "---\n",
        "# Practical Exercise\n",
        "\n",
        "\n",
        "The goal of this exercise is to implement, investigate and build intuition about the different components of a VAE model. These include the choice of a posterior mode (Gaussian, Flow models), as well as how training them with and without constraints affects the final outcome.\n",
        "Moreover, you will be able to see how selecting different prior (Normal Gaussian, Truncated Gaussian, Uniform) and posterior (Normal Gaussian, Flow) distributions used in the model affects the training process.\n",
        "\n",
        "<br>\n",
        "\n",
        "This practical exercise consists of two parts:\n",
        "1. **Model Implementations** - You will implements important components of the VAE model, as well as some of the optimisation functions.\n",
        "2. **Tasks and Conclusions** - You will run and analyse different models and optimisation approaches.\n",
        "\n",
        "<br>\n",
        "\n",
        "In the first part, you are asked to implement the following:\n",
        "\n",
        "- Implement the vanilla MLP encoder and decoder for the VAE.\n",
        "- Implement the main VAE model training loss `get_model`.\n",
        "- Implement Gaussian posterior function.\n",
        "- Complete Flow-based posterior function definition.\n",
        "- Implement loss functions:\n",
        " - Implement `get_log_likelihood` loss function.\n",
        " - Implement `get_geco_constraint` loss function.\n",
        "- Define the main update function.\n",
        "\n",
        "<br>\n",
        "\n",
        "NOTE: The sections you need to edit and implement the tasks are marked with **[TODO]**. The prior and posterior distribution functions are already given, implemented using the `distrax` library.\n"
      ]
    },
    {
      "cell_type": "markdown",
      "metadata": {
        "id": "ZAeQU94La1si"
      },
      "source": [
        "## Model implementations"
      ]
    },
    {
      "cell_type": "code",
      "execution_count": 5,
      "metadata": {
        "id": "QllGY9ysSyjs"
      },
      "outputs": [],
      "source": [
        "# @title [TODO] Implement the vanilla MLP encoder and decoder for the VAE.\n",
        "\n",
        "# @markdown Implement the encoder and decoder functions that will be used within the probability distribution functions, to approximate their parameters.\n",
        "# @markdown You are free to implement your own architecture, and the comments are left as guidelines.\n",
        "# @markdown <br><br>NOTE: we use `distrax.Independent` to wrap the probability distribution, because it takes care of giving us a scalar log_prob for an input tensor event, where entries are indeed independent.\n",
        "\n",
        "\n",
        "def encode(image, hidden_sizes=(16, 16, 16)):\n",
        "  \"\"\"VAE encoder function.\"\"\"\n",
        "\n",
        "  ### YOUR CODE HERE #########################\n",
        "  # Use haiku Flatten layer to flatten the input image.\n",
        "  flat_image = hk.Flatten()(image)  # DELETE\n",
        "  # Use the haiku MLP to encode the flattened input image, using the given hidden layer sizes.\n",
        "  flat_encoding = hk.nets.MLP(hidden_sizes, name='encoder')(flat_image)  # DELETE\n",
        "  ############################################\n",
        "\n",
        "  return flat_encoding\n",
        "\n",
        "\n",
        "def decode(z, hidden_sizes=(16, 16, 16), output_shape=(28, 28, 1)):\n",
        "  \"\"\"VAE decoder function.\"\"\"\n",
        "\n",
        "  ### YOUR CODE HERE #########################\n",
        "  # Compute the flattened output dimension from the output_shape\n",
        "  num_outputs = np.prod(output_shape)  # DELETE\n",
        "  # Use the haiku MLP to decode the latent sampe, using the given hidden layer and output sizes.\n",
        "  u = hk.nets.MLP(output_sizes=hidden_sizes + (num_outputs,), name='decoder')(z)  # DELETE\n",
        "  # Reshape the output to match the output_shape\n",
        "  u = u.reshape((-1,) + output_shape)  # DELETE\n",
        "  ############################################\n",
        "\n",
        "  return distrax.Independent(distrax.Bernoulli(logits=u),\n",
        "                             reinterpreted_batch_ndims=len(output_shape))\n",
        "  "
      ]
    },
    {
      "cell_type": "code",
      "execution_count": 6,
      "metadata": {
        "id": "bULF5qBAIhTZ"
      },
      "outputs": [],
      "source": [
        "# @title [TODO] Implement the main VAE model training loss.\n",
        "\n",
        "# @markdown This is the main model logic, which is agnostic of the prior and posterior distributions, as well as the loss. \n",
        "# @markdown <br>Once this is implemented, we focus on the specific variants of the distribution and losses.\n",
        "\n",
        "# @markdown In this function you need to implement the KL divergence component of the loss, \n",
        "# @markdown which acts as an incentive to match the approximated posterior to our prior distribution.\n",
        "\n",
        "\n",
        "def get_model(get_prior_distribution,\n",
        "              get_posterior_distribution,\n",
        "              get_reconstruction_loss):\n",
        "\n",
        "  def model(image):\n",
        "    p = get_prior_distribution()\n",
        "    q, visualization_z = get_posterior_distribution(image)\n",
        "    \n",
        "    ### YOUR CODE HERE #########################\n",
        "    # Sample z from the posterior distribution.\n",
        "    # Hint: check how to sample from distrax distributions\n",
        "    prng_key = hk.next_rng_key()\n",
        "    z = q.sample(seed=prng_key)  # DELETE\n",
        "    # Compute approximate KL from samples.\n",
        "    posterior_log_prob = q.log_prob(z)  # DELETE\n",
        "    prior_log_prob = p.log_prob(z)  # DELETE\n",
        "    kl = jnp.mean(posterior_log_prob - prior_log_prob)  # DELETE\n",
        "    # Decode the sample to get a distribution over reconstructions.\n",
        "    output_distribution = decode(z)  # DELETE\n",
        "    ############################################\n",
        "\n",
        "    reconstruction_loss, logs = get_reconstruction_loss(\n",
        "        output_distribution, image)\n",
        "    loss = kl + reconstruction_loss\n",
        "\n",
        "    outputs = dict(loss=loss, kl=kl, z=visualization_z)\n",
        "    outputs.update(logs)\n",
        "    return loss, outputs\n",
        "\n",
        "  model = hk.transform(model)\n",
        "  return model.init, model.apply\n",
        "\n"
      ]
    },
    {
      "cell_type": "code",
      "execution_count": 7,
      "metadata": {
        "id": "aHAwOk9Ca4Hp"
      },
      "outputs": [],
      "source": [
        "# @title Prior function definitions.\n",
        "\n",
        "# @markdown These functions will be passed as `get_prior_distribution` to the main model function (`get_model`).\n",
        "# @markdown <br><br>NOTE: we use `distrax.Independent` to wrap the probability distribution, because it takes care of giving us a scalar log_prob for an input tensor event, where entries are indeed independent.\n",
        "\n",
        "\n",
        "def get_normal_prior_distribution(event_shape: Sequence[int] = (2,)):\n",
        "  \"\"\"Gaussian probability distribution function, used for the prior.\"\"\"\n",
        "  dist = distrax.Normal(loc=jnp.zeros(event_shape), \n",
        "                        scale=jnp.ones(event_shape))\n",
        "  return distrax.Independent(dist, reinterpreted_batch_ndims=len(event_shape))\n",
        "\n",
        "\n",
        "def get_truncated_normal_prior_distribution(event_shape: Sequence[int] = (2,)):\n",
        "  \"\"\"Truncated Gaussian probability distribution function, used for the prior.\"\"\"\n",
        "  dist = tfd.TruncatedNormal(loc=0.5 * jnp.ones(event_shape), \n",
        "                             scale=jnp.ones(event_shape),\n",
        "                             low=jnp.zeros(event_shape),\n",
        "                             high=jnp.ones(event_shape))\n",
        "  return distrax.Independent(dist, reinterpreted_batch_ndims=len(event_shape))\n",
        "\n",
        "\n",
        "def get_uniform_prior_distribution(event_shape: Sequence[int] = (2,)):\n",
        "  \"\"\"Uniform probability distribution function, used for the prior.\"\"\"\n",
        "  dist = distrax.Uniform(low=jnp.zeros(event_shape),\n",
        "                         high=jnp.ones(event_shape))\n",
        "  return distrax.Independent(dist, reinterpreted_batch_ndims=len(event_shape))\n"
      ]
    },
    {
      "cell_type": "code",
      "execution_count": 8,
      "metadata": {
        "id": "nWyricuC6Vqs"
      },
      "outputs": [],
      "source": [
        "# @title [TODO] Implement Gaussian posterior function.\n",
        "\n",
        "# @markdown Implement the Normal posterior distribution using the encoder outputs and the input dimension.\n",
        "# @markdown This function will be passed as `get_posterior_distribution` to the main model function (`get_model`).\n",
        "# @markdown <br><br>NOTE: we use `distrax.Independent` to wrap the probability distribution, because it takes care of giving us a scalar log_prob for an input tensor event, where entries are indeed independent.\n",
        "\n",
        "\n",
        "def context_to_normal_posterior(ctx, event_shape):\n",
        "  \"\"\"Helper function that computes the Gaussian mean and standard deviation from the context.\"\"\"\n",
        "  event_size = np.prod(event_shape)\n",
        "  ctx = jax.nn.relu(ctx)\n",
        "\n",
        "  ### YOUR CODE HERE #########################\n",
        "  # Apply a haiku Linear layer to the flattened context input, to compute the \n",
        "  # mean and standard deviation parameters. (NOTE: keep in mind the dimensions of the parameters.)\n",
        "  parametrization = hk.Linear(event_size * 2)(hk.Flatten()(ctx))\n",
        "  # Extract the mean and standard deviation, as the first and second half of the outputs\n",
        "  loc = parametrization[:, :event_size]\n",
        "  scale = jnp.exp(parametrization[:, event_size:])\n",
        "  ############################################\n",
        "\n",
        "  return distrax.Independent(distrax.Normal(loc, scale),\n",
        "                             reinterpreted_batch_ndims=len(event_shape))\n",
        "\n",
        "\n",
        "def get_normal_posterior_distribution(\n",
        "    image,\n",
        "    encoder_hidden_sizes = (32, 32, 32, 32),\n",
        "    event_shape: Sequence[int] = (2,),\n",
        "    visualization_num_samples=100) -> distrax.Independent:\n",
        "  \"\"\"Normal Gaussioan posterior distribution function.\"\"\"\n",
        "  batch_size = image.shape[0]\n",
        "  ctx = encode(image, encoder_hidden_sizes)\n",
        "  posterior = context_to_normal_posterior(ctx, event_shape)\n",
        "  z = posterior.sample(\n",
        "      seed=hk.next_rng_key(), sample_shape=visualization_num_samples)\n",
        "  return posterior, z\n"
      ]
    },
    {
      "cell_type": "code",
      "execution_count": 9,
      "metadata": {
        "id": "coibqmghO0S-"
      },
      "outputs": [],
      "source": [
        "# @title [TODO] Complete Flow-based posterior function definition.\n",
        "\n",
        "# @markdown This function will be passed as `get_posterior_distribution` to the main model function (`get_model`).\n",
        "# @markdown Please fill in the missing code to create the conditioned input.\n",
        "\n",
        "\n",
        "def get_flow_posterior_distribution(image,\n",
        "                                    encoder_hidden_sizes = (16, 16, 16),\n",
        "                                    conditioner_hidden_sizes = (16, 16, 16),\n",
        "                                    event_shape: Sequence[int] = (2,),\n",
        "                                    num_layers: int = 3,\n",
        "                                    hidden_sizes: Sequence[int] = (16, 16),\n",
        "                                    num_bins: int = 4,\n",
        "                                    visualization_num_steps=10) -> distrax.Transformed:\n",
        "  \"\"\"Flow-based posterior distribution function.\"\"\"\n",
        "  ctx = encode(image, encoder_hidden_sizes)\n",
        "\n",
        "  def get_conditioner(event_shape: Sequence[int],\n",
        "                      hidden_sizes: Sequence[int],\n",
        "                      num_bijector_params: int) -> hk.Sequential:\n",
        "    \"\"\"Creates an MLP conditioner for each layer of the flow.\"\"\"\n",
        "    conditioner_output_shape = tuple(event_shape) + (num_bijector_params,)\n",
        "    conditoner = hk.Sequential([\n",
        "        hk.nets.MLP(conditioner_hidden_sizes, activate_final=True),\n",
        "        # We initialize this linear layer to zero so that the flow is initialized\n",
        "        # to the identity function.\n",
        "        hk.Linear(\n",
        "            np.prod(event_shape) * num_bijector_params,\n",
        "            w_init=jnp.zeros,\n",
        "            b_init=jnp.zeros),\n",
        "        hk.Reshape(conditioner_output_shape, preserve_dims=-1),\n",
        "    ])\n",
        "    def fn(x):\n",
        "      # For the concatenation to work, x must have the same batch size as the \n",
        "      # context ctx. Unfortunately this means that you cannot compute log_probs\n",
        "      # for batches of differnt size than ctx.\n",
        "\n",
        "      ### YOUR CODE HERE #########################\n",
        "      conditioned_input = jnp.concatenate([x, ctx], axis=-1)  # DELETE\n",
        "      ############################################\n",
        "\n",
        "      return conditoner(conditioned_input)\n",
        "    \n",
        "    return fn\n",
        "\n",
        "  # Alternating binary mask.\n",
        "  mask = jnp.arange(0, np.prod(event_shape)) % 2\n",
        "  mask = jnp.reshape(mask, event_shape)\n",
        "  mask = mask.astype(bool)\n",
        "\n",
        "  def bijector_fn(params):\n",
        "    return distrax.RationalQuadraticSpline(\n",
        "        params, range_min=0., range_max=1.)\n",
        "\n",
        "  # Number of parameters for the rational-quadratic spline:\n",
        "  # - `num_bins` bin widths\n",
        "  # - `num_bins` bin heights\n",
        "  # - `num_bins + 1` knot slopes\n",
        "  # for a total of `3 * num_bins + 1` parameters.\n",
        "  num_bijector_params = 3 * num_bins + 1\n",
        "\n",
        "  layers = []\n",
        "  for _ in range(num_layers):\n",
        "    layer = distrax.MaskedCoupling(\n",
        "        mask=mask,\n",
        "        bijector=bijector_fn,\n",
        "        conditioner=get_conditioner(event_shape, hidden_sizes,\n",
        "                                    num_bijector_params))\n",
        "    layers.append(layer)\n",
        "    # Flip the mask after each layer.\n",
        "    mask = jnp.logical_not(mask)\n",
        "\n",
        "  # We invert the flow so that the `forward` method is called with `log_prob`.\n",
        "  # flow = distrax.Inverse(distrax.Chain(layers))\n",
        "  flow = distrax.Chain(layers)\n",
        "  batch_size = image.shape[0]\n",
        "  base_distribution = distrax.Independent(\n",
        "      distrax.Uniform(\n",
        "          low=jnp.zeros((batch_size,) + event_shape),\n",
        "          high=jnp.ones((batch_size,) + event_shape)),\n",
        "      reinterpreted_batch_ndims=len(event_shape))\n",
        "  \n",
        "  # For flow visualizations\n",
        "  # start a bit away from the boundaries because the flow is the identity there\n",
        "  eps = 0.01 \n",
        "  # This way of setting up the grid will render like a mesh, but using onli dots\n",
        "  v1 = jnp.linspace(eps, 1 - eps, visualization_num_steps * 25)\n",
        "  v2 = jnp.linspace(eps, 1 - eps, visualization_num_steps)\n",
        "  xy = jnp.stack(jnp.meshgrid(v1, v2), axis=-1)\n",
        "  yx = jnp.stack(jnp.meshgrid(v2, v1), axis=-1)\n",
        "  grid = jnp.concatenate(\n",
        "      [jnp.reshape(xy, [-1, 2]), jnp.reshape(yx, [-1, 2])], axis=0)\n",
        "  grid = jnp.tile(grid[:, None], (1, batch_size, 1))\n",
        "  transformed_grid = hk.vmap(flow.forward, split_rng=False)(grid)\n",
        "  return distrax.Transformed(base_distribution, flow), transformed_grid\n"
      ]
    },
    {
      "cell_type": "markdown",
      "metadata": {
        "id": "a9EvZGPeRD6h"
      },
      "source": [
        "### [TODO] Implement loss functions.\n",
        "\n",
        "This function will be passed as `get_reconstruction_loss` to the main model function (`get_model`).\n",
        "<br>\n",
        "<br>\n",
        "Two variants of loss functions need to be implemented `get_log_likelihood` and `get_geco_constraint`:\n",
        "\n",
        "- `get_log_likelihood` acts as the reconstruction loss, as it computes the log_prob of the data under the output distribution (See [Kingma and Welling, (2013)](https://arxiv.org/abs/1312.6114)). \n",
        "- `get_geco_constraint` acts as the reconstruction loss, whose influence is balanced via optimisation by applying the Lagrangian Multipliers method to a reconstruction constraint (See [Rezende and Viola, (2018)](https://arxiv.org/abs/1810.00597v1?)).\n"
      ]
    },
    {
      "cell_type": "code",
      "execution_count": 10,
      "metadata": {
        "id": "QpqKmexzO3T9"
      },
      "outputs": [],
      "source": [
        "# @title [TODO] Implement `get_log_likelihood` loss function.\n",
        "\n",
        "\n",
        "def get_log_likelihood(distribution, targets):\n",
        "\n",
        "  ### YOUR CODE HERE #########################\n",
        "  # Get log probability of the target samples under distribution.\n",
        "  log_prob = distribution.log_prob(targets)  # DELETE\n",
        "  chex.assert_rank(log_prob, 1) # Verify it's a batch of log probs\n",
        "  # Get the mean of the log probabilities.\n",
        "  log_prob = jnp.mean(log_prob)  # DELETE\n",
        "  # Get the reconstruction as the mean of the distribution.\n",
        "  reconstruction = distribution.mean()  # DELETE\n",
        "  # Compute the MSE between the reconstructed and target samples\n",
        "  MSE = jnp.mean((reconstruction-targets)**2) # Average error per-pixel\n",
        "  ############################################\n",
        "\n",
        "  return -log_prob, dict(reconstruction=reconstruction, MSE=MSE)"
      ]
    },
    {
      "cell_type": "code",
      "execution_count": 11,
      "metadata": {
        "cellView": "form",
        "id": "q1GMy3As3g_Y"
      },
      "outputs": [],
      "source": [
        "# @title Lagrange optimisation helper funtions\n",
        "\n",
        "@functools.partial(jax.custom_vjp, nondiff_argnums=(1, 2, 3))\n",
        "def clip(x, min_val, max_val, maximize=True):\n",
        "  \"\"\"Value clipping.\"\"\"\n",
        "  del maximize\n",
        "  return jax.tree_util.tree_map(lambda e: jnp.clip(e, min_val, max_val), x)\n",
        "\n",
        "\n",
        "def clip_fwd(x, min_val, max_val, maximize):\n",
        "  \"\"\"Forward function.\"\"\"\n",
        "  return clip(x, min_val, max_val, maximize), x\n",
        "\n",
        "\n",
        "def clip_bwd(min_val, max_val, maximize, x, co_tangents):\n",
        "  \"\"\"Backward function.\"\"\"\n",
        "  zeros = jax.tree_util.tree_map(jnp.zeros_like, co_tangents)\n",
        "  if min_val is not None:\n",
        "    get_mask = lambda x, v, t: (x < v) & (t < 0 if maximize else t > 0)\n",
        "    mask = jax.tree_util.tree_map(get_mask, x, min_val, co_tangents)\n",
        "    co_tangents = jax.tree_util.tree_map(jnp.where, mask, zeros, co_tangents)\n",
        "  if max_val is not None:\n",
        "    get_mask = lambda x, v, t: (x > v) & (t > 0 if maximize else t < 0)\n",
        "    mask = jax.tree_util.tree_map(get_mask, x, max_val, co_tangents)\n",
        "    co_tangents = jax.tree_util.tree_map(jnp.where, mask, zeros, co_tangents)\n",
        "  return co_tangents,\n",
        "\n",
        "\n",
        "# Define custom derivative rules for the lagrangian multiplier\n",
        "clip.defvjp(clip_fwd, clip_bwd)\n",
        "\n",
        "# @title Lagrange multiplier for constrained optimisation\n",
        "\n",
        "class LagrangeMultiplier(hk.Module):\n",
        "  \"\"\"Lagrange Multiplier module for constrained optimization.\"\"\"\n",
        "\n",
        "  def __init__(self,\n",
        "               shape=(),\n",
        "               initializer=1.0,\n",
        "               maximize=True,\n",
        "               valid_range=None,\n",
        "               name='lagrange_multiplier'):\n",
        "    super().__init__(name=name)\n",
        "    self._shape = shape\n",
        "    if callable(initializer):\n",
        "      self._initializer = initializer\n",
        "    else:\n",
        "      self._initializer = lambda *args: jnp.ones(*args) * initializer\n",
        "    self._maximize = maximize\n",
        "    self._valid_range = valid_range if valid_range is not None else (0.0, None)\n",
        "    assert self._valid_range[0] >= 0\n",
        "\n",
        "  def __call__(self):\n",
        "    lag_mul = hk.get_parameter('w', self._shape, init=self._initializer)\n",
        "    lag_mul = clip(lag_mul, *self._valid_range, maximize=self._maximize)\n",
        "    return lag_mul"
      ]
    },
    {
      "cell_type": "code",
      "execution_count": 12,
      "metadata": {
        "id": "RG0Yy3oH3nA7"
      },
      "outputs": [],
      "source": [
        "# @title [TODO] Implement `get_geco_constraint` loss function.\n",
        "\n",
        "def _constraint_satisfaction_term(x, target, lagmul_valid_range=None):\n",
        "\n",
        "  ### YOUR CODE HERE #########################\n",
        "  lag_mul = LagrangeMultiplier(\n",
        "      shape=x.shape, valid_range=lagmul_valid_range, initializer=1.0)()\n",
        "  constraint_satisfaction = x - target  # DELETE\n",
        "  ############################################\n",
        "\n",
        "  return jnp.sum(lag_mul * constraint_satisfaction), lag_mul\n",
        "\n",
        "\n",
        "def get_geco_constraint(distribution, target, kappa):\n",
        "  \"\"\"Constraint on the reconstruction loss.\"\"\"\n",
        "\n",
        "  ### YOUR CODE HERE #########################\n",
        "  # Get the reconstruction as the mean of the distribution.\n",
        "  reconstruction = distribution.mean()\n",
        "  # Compute the MSE between the reconstructed and target samples\n",
        "  MSE = jnp.mean((reconstruction-target)**2)\n",
        "  ############################################\n",
        "\n",
        "  num_pixels = np.prod(reconstruction.shape[1:])\n",
        "  constraint_term, lagmul = _constraint_satisfaction_term(\n",
        "      MSE, target=kappa**2, lagmul_valid_range=(0.0, 100.0))\n",
        "  return num_pixels * constraint_term, dict(reconstruction=reconstruction,\n",
        "                                            MSE=MSE,\n",
        "                                            lagmul=lagmul)"
      ]
    },
    {
      "cell_type": "markdown",
      "metadata": {
        "id": "8GyVPWnLJUxm"
      },
      "source": [
        "### Using multiple optimisers jointly\n",
        "\n",
        "We will now see how we can optimize joinlty the model parameters `params` and the Lagrange multipliers `lagmul_params`.\n",
        "\n",
        "We want to update the Lagrange multipliers via stochastic gradient *ascent*; for example we could consider using the logic in `optax.sgd` with a *negative*  learning rate. The model params will be instead optimized using ADAM.\n",
        "\n",
        "In the next cell you will find a handy wrapper to capture multiple optimizers into a single optax object.\n",
        "\n",
        "What is left to do is to specify how to filter the model parameters to select which variables should be mapped to which optimizer. \n",
        "\n",
        "Tip: you can filter the Lagrange multipliers with:\n",
        "```multiplier_filter = lambda m, n, p: 'lagrange' in m```"
      ]
    },
    {
      "cell_type": "code",
      "execution_count": 13,
      "metadata": {
        "id": "UnZp37Xtb2yv"
      },
      "outputs": [],
      "source": [
        "def multi_opt(**filter_optimizer_map):\n",
        "  \"\"\"Wraps multiple optimizers within an object with the optax interface.\n",
        "\n",
        "  Args:\n",
        "    **filter_optimizer_map: kwargs used to map optimizer names to\n",
        "    (predicate, optimizer) tuples, where predicate is a function which will be\n",
        "    passed to haiku.data_structure.filter in order to select which variables\n",
        "    are to be updated by the corresponding optimizer.\n",
        "\n",
        "  Returns:\n",
        "    An optax.InitUpdate tuple.\n",
        "  \"\"\"\n",
        "  def filter_(predicate, params):\n",
        "    if params is None:\n",
        "      return None\n",
        "    return hk.data_structures.filter(predicate, params)\n",
        "\n",
        "  merge_ = hk.data_structures.merge\n",
        "\n",
        "  def _init(params):\n",
        "    opt_state = dict()\n",
        "    for opt_name, (predicate, opt) in filter_optimizer_map.items():\n",
        "      opt_state[opt_name] = opt.init(filter_(predicate, params))\n",
        "    return opt_state\n",
        "\n",
        "  def _update(updates, state, params=None):\n",
        "    new_updates = {}\n",
        "    new_state = dict()\n",
        "    for opt_name, (predicate, opt) in filter_optimizer_map.items():\n",
        "      update, new_state[opt_name] = opt.update(\n",
        "          filter_(predicate, updates), state[opt_name],\n",
        "          filter_(predicate, params))\n",
        "      new_updates = merge_(new_updates, update)\n",
        "    return new_updates, new_state\n",
        "\n",
        "  return optax.GradientTransformation(_init, _update)"
      ]
    },
    {
      "cell_type": "code",
      "execution_count": 14,
      "metadata": {
        "id": "nR6LejyKbcK_"
      },
      "outputs": [],
      "source": [
        "# @title [TODO] Define the main update function.\n",
        "\n",
        "# @markdown This is the main function that estimates the gradient, computes and applies the updates to the parameters.\n",
        "\n",
        "\n",
        "# Define the optimizer\n",
        "opt = multi_opt(\n",
        "  # Perform gradient ascent for the Lagrange multipliers...\n",
        "  lagmul_opt=(lambda m, n, p: 'lagrange_multiplier' in m, optax.sgd(-2e-3)),\n",
        "  # ...and descent for the model parameters.\n",
        "  model_opt=(lambda m, n, p: 'lagrange_multiplier' not in m, optax.adam(1e-3)))\n",
        "\n",
        "\n",
        "@jax.jit\n",
        "def run(params, opt_state, key, image):\n",
        "  \"\"\"Update function that computes the gradient of the loss and updates the parameters.\"\"\"\n",
        "  key, step_key = jax.random.split(key)\n",
        "  \n",
        "  ### YOUR CODE HERE #########################\n",
        "  # Used jax value_and_grad function over the step_model, to create a callable that returns its value and gradients.\n",
        "  jax_value_and_grad_fn = jax.value_and_grad(step_model, has_aux=True)\n",
        "  # Apply the callable by passing the current parameters, random key and the input image.\n",
        "  (_, outputs), grad = jax_value_and_grad_fn(params, key, image)\n",
        "  # Use optimizer's update function to compute the parameter updates from the gradients.\n",
        "  updates, opt_state = opt.update(grad, opt_state)\n",
        "  # Use optax library's apply_updates function to perform parameter updates.\n",
        "  params = optax.apply_updates(params, updates)\n",
        "  ############################################\n",
        "\n",
        "  return params, opt_state, key, outputs\n"
      ]
    },
    {
      "cell_type": "markdown",
      "metadata": {
        "id": "QqIEcG72ZMVa"
      },
      "source": [
        "### Training"
      ]
    },
    {
      "cell_type": "markdown",
      "metadata": {
        "id": "azi2q0U7_fWY"
      },
      "source": [
        "In this section we will be training and evaluating the performance of the different posterior models discussed above, as well as the effects of using standard and constrained optimisation.\n",
        "\n",
        "Try to think about and answer the following questions:\n",
        "- What are we supposed to see from the posterior samples? \n",
        "- How does the plot show it?\n",
        "- What is the MSE plot showing? What does this mean in the GECO case?"
      ]
    },
    {
      "cell_type": "code",
      "execution_count": 15,
      "metadata": {
        "id": "63ys4oApF_-H",
        "cellView": "form"
      },
      "outputs": [],
      "source": [
        "# @title Training helper and visualisation functions\n",
        "\n",
        "# Reconstruct image from latent sample\n",
        "def get_trained_decoder():\n",
        "  \"\"\"Apply decoder to the latent sample using the latest parameters.\"\"\"\n",
        "  def reconstruct(x):\n",
        "    output_distribution = decode(x)\n",
        "    return output_distribution.mean()\n",
        "  reconstruct = hk.transform(reconstruct)\n",
        "  return lambda x: reconstruct.apply(params, key, x)\n",
        "\n",
        "\n",
        "# Plot analysis figure\n",
        "def plot_figure(params, kls, mses, loss_data, num_samples=100):\n",
        "  \"\"\"Plot the full analysis figure, with samples and training curves.\"\"\"\n",
        "  trained_decoder = get_trained_decoder()\n",
        "  z_grid = make_z_grid(num_samples)\n",
        "\n",
        "  def min_mse(x, y):\n",
        "    return np.min(np.sum((x.reshape(1, 28, 28, 1) - y)**2, axis=(1,2,3)), axis=-1)\n",
        "\n",
        "  min_mse = jax.vmap(min_mse, in_axes=[0, None])\n",
        "  mse = min_mse(trained_decoder(z_grid), data.image)\n",
        "  mse_as_image = mse.reshape((num_samples, num_samples))\n",
        "\n",
        "  fig, axs = plt.subplots(2, 3, figsize=(15,10))\n",
        "  imshow(gallery(outputs['reconstruction']), ax=axs[0,0], title='reconstructions')\n",
        "  axs[1,0].plot(kls)\n",
        "  axs[1,0].set_title('kl')\n",
        "  axs[1,1].plot(mses);\n",
        "  axs[1,1].set_title('MSE')\n",
        "  axs[1,2].plot(loss_data);\n",
        "  if 'lagmul' in outputs:\n",
        "    axs[1,2].set_title('lagrange_multiplier')\n",
        "  else:\n",
        "    axs[1,2].set_title('loss')\n",
        "\n",
        "  markers = ['${}$'.format(x) for x in range(10)]\n",
        "  z = outputs['z']\n",
        "  for i in range(data.image.shape[0]):\n",
        "    x, y = z[:,i,0], z[:,i,1]\n",
        "    axs[0,1].plot(x, y, '.', markersize=marker_size)\n",
        "  for i in range(data.image.shape[0]):\n",
        "    x, y = z[:,i,0], z[:,i,1]\n",
        "    axs[0,1].plot(np.mean(x), np.mean(y), marker=markers[data.label[i]],\n",
        "                  c='k', markersize=20, alpha=1.0, linewidth=0.7)\n",
        "  axs[0,1].set_title('Posterior samples')\n",
        "\n",
        "  axs[0,2].imshow(np.flip(mse_as_image, axis=0))\n",
        "  axs[0,2].set_title('||MSE||')\n",
        "  axs[0,2].axis('off')\n",
        "  axs[0,2].grid(False)\n",
        "\n",
        "\n",
        "def get_z_grid(min_z, max_z, num_samples=100):\n",
        "  \"\"\"Helper function for plotting samples on a grid.\"\"\"\n",
        "  eps = 0.01\n",
        "  min_z = min_z + eps\n",
        "  max_z = max_z - eps\n",
        "  z_grid = np.meshgrid(np.linspace(min_z, max_z, num_samples),\n",
        "                       np.linspace(min_z, max_z, num_samples))\n",
        "  z_grid = jnp.concatenate(\n",
        "      jax.tree_util.tree_map(lambda x: x.reshape((-1, 1)), z_grid), -1)\n",
        "  return z_grid"
      ]
    },
    {
      "cell_type": "code",
      "execution_count": 16,
      "metadata": {
        "colab": {
          "base_uri": "https://localhost:8080/",
          "height": 264
        },
        "outputId": "c0d68520-3f7b-4e8f-c9d6-d88372d05a46",
        "id": "_mENUTCsVD2d"
      },
      "outputs": [
        {
          "output_type": "display_data",
          "data": {
            "text/plain": [
              "<Figure size 432x288 with 1 Axes>"
            ],
            "image/png": "[encoded data removed]"
          },
          "metadata": {
            "needs_background": "light"
          }
        }
      ],
      "source": [
        "# @title Select subset from the dataset for training\n",
        "\n",
        "labels_list = [0,8,6] #@param\n",
        "num_samples_per_label = 3 #@param {type:'integer'}\n",
        "\n",
        "raw_data = get_raw_data()\n",
        "data = get_data_slice(raw_data, labels=(0, 8, 6), num_samples=num_samples_per_label)\n",
        "imshow(gallery(data.image), title='Example dataset')"
      ]
    },
    {
      "cell_type": "code",
      "execution_count": 17,
      "metadata": {
        "id": "CKQTxlkna9Sq"
      },
      "outputs": [],
      "source": [
        "# @title Model and Optimisation selection\n",
        "# @markdown Evaluate the performance and training of different models, by changing the prior-posterior combinations, and the optimisation type.\n",
        "\n",
        "\n",
        "prior_posterior_model = \"Gaussian + Gaussian\" #@param [\"Gaussian + Gaussian\", \"Uniform + Flow\", \"Truncated Gaussian + Flow\"]\n",
        "optimization_type = \"Standard\" #@param [\"Standard\", \"Constrained\"]\n",
        "constraint_value = 0.1 #@param\n",
        "\n",
        "if optimization_type == \"Constrained\":\n",
        "  get_geco_loss = lambda d, t: get_geco_constraint(d, t, kappa=constraint_value)\n",
        "  get_reconstruction_loss = get_geco_loss\n",
        "elif optimization_type == \"Standard\":\n",
        "  get_reconstruction_loss = get_log_likelihood\n",
        "else:\n",
        "  raise ValueError('Unsupported optimization type {}'.format(optimization_type))\n",
        "\n",
        "if prior_posterior_model == \"Uniform + Flow\":\n",
        "  init_model, step_model = get_model(\n",
        "      get_prior_distribution=get_uniform_prior_distribution,\n",
        "      get_posterior_distribution=get_flow_posterior_distribution,\n",
        "      get_reconstruction_loss=get_reconstruction_loss)\n",
        "  make_z_grid = lambda num_samples: get_z_grid(0, 1, num_samples); markersize = 1\n",
        "  marker_size = 1\n",
        "elif prior_posterior_model == \"Gaussian + Gaussian\":\n",
        "  init_model, step_model = get_model(\n",
        "      get_prior_distribution=get_normal_prior_distribution,\n",
        "      get_posterior_distribution=get_normal_posterior_distribution,\n",
        "      get_reconstruction_loss=get_reconstruction_loss)\n",
        "  make_z_grid = lambda num_samples: get_z_grid(-2, 2, num_samples); markersize = 10\n",
        "  marker_size = 10\n",
        "elif prior_posterior_model == \"Truncated Gaussian + Flow\":\n",
        "  init_model, step_model = get_model(\n",
        "      get_prior_distribution=get_truncated_normal_prior_distribution,\n",
        "      get_posterior_distribution=get_flow_posterior_distribution,\n",
        "      get_reconstruction_loss=get_reconstruction_loss)\n",
        "  make_z_grid = lambda num_samples: get_z_grid(-2, 2, num_samples); markersize = 10\n",
        "  marker_size = 10\n",
        "else:\n",
        "  raise ValueError('Unsupported posterior model {}'.format(prior_posterior_model))\n",
        "\n"
      ]
    },
    {
      "cell_type": "code",
      "execution_count": null,
      "metadata": {
        "id": "N-H5nPGU5U1X"
      },
      "outputs": [],
      "source": [
        "# @title Initialise model and optimiser\n",
        "key = jax.random.PRNGKey(3)\n",
        "init_key, key = jax.random.split(key)\n",
        "\n",
        "params = init_model(init_key, data.image)\n",
        "opt_state = opt.init(params)\n",
        "\n",
        "kls = []\n",
        "mses = []\n",
        "loss_data = []"
      ]
    },
    {
      "cell_type": "code",
      "execution_count": null,
      "metadata": {
        "id": "FBvJLrz5baTk"
      },
      "outputs": [],
      "source": [
        "# @title Run training loop\n",
        "\n",
        "# Run optimisation loop and visualise progress\n",
        "# (re-run cell to continue training)\n",
        "num_steps = 30000\n",
        "start_time = time.time()\n",
        "for _ in range(num_steps):\n",
        "  params, opt_state, key, outputs = run(params, opt_state, key, data.image)\n",
        "  kls.append(outputs['kl'])\n",
        "  if 'lagmul' in outputs:\n",
        "    loss_data.append(outputs['lagmul'])\n",
        "  else:\n",
        "    loss_data.append(outputs['loss'])  \n",
        "  mses.append(outputs['MSE'])\n",
        "training_time = time.time() - start_time\n",
        "\n",
        "# Visusalise training progress\n",
        "plot_figure(params, kls, mses, loss_data)\n",
        "print(f\"Total training time: {training_time:.2f}s, with final KL: {np.mean(kls[-int(0.1 * num_steps):]):.4f} and MSE: {np.mean(mses[-int(0.1 * num_steps):]):.4f}.\")\n"
      ]
    },
    {
      "cell_type": "markdown",
      "metadata": {
        "id": "I621pk6Ea6LQ"
      },
      "source": [
        "---\n",
        "## Tasks and Conclusions\n",
        "\n",
        "In this part you will evaluate and analyse the latent space obtained using different prior-posterior pairs, as well as different losses (vanilla vs constrained optimisation).\n",
        "\n",
        "Please follow the tasks defined below and answer the corresponding questions."
      ]
    },
    {
      "cell_type": "markdown",
      "metadata": {
        "id": "gLnCdUr00ypF"
      },
      "source": [
        "### **TASK 1** \n",
        "Use Gaussian prior + Gaussian posterior:\n",
        "- Use only ELBO loss (Standard optimisation)\n",
        "  - Observe the latent space and the value of KL and MSE\n",
        "- Switch to GECO loss (Constrained optimisation) and add the desired MSE as `constraint_value` - copy the run loop cell for easier comparison\n",
        "  - Observe the latent space and the value of KL and MSE\n",
        "\n",
        "\n",
        "**Question 1.1:**\n",
        "<br>\n",
        "What difference do you observe between the two optimisation approaches in terms of the latent space coverage and achieved prior-posterior matching (KL term)? How does KL correlate with the spread of posterior samples within the latent space?\n",
        "\n",
        "\n",
        "**Answer 1.1:**\n",
        "<br>\n",
        "By introducing the constrained optimisation, we can observe fewers holes within the latent space coverage. We can achieve a lower KL with the same MSE constraint, which means we match the prior more closely, and thus the latent space is covered better.\n",
        "\n",
        "However, a large space of the latent space remains not covered, as fundamentally you can not cover the prior well and it is hard to tile the latent space because there is always some overlap.\n",
        "\n",
        "\n",
        "**Question 1.2:**\n",
        "<br>\n",
        "What does the `lagrange_multiplier` plot tell us?\n",
        "\n",
        "**Answer 1.2:**\n",
        "<br>\n",
        "The higher values in the plot correspond with a higher weight on the MSE term. Therefore, once the the lagrance multiplier drops to zero, the optimisation focuses on the KL term."
      ]
    },
    {
      "cell_type": "markdown",
      "metadata": {
        "id": "FIO2kM-KV6hk"
      },
      "source": [
        "### **TASK 2**\n",
        "Use Uniform prior + Flow posterior:\n",
        "\n",
        "- Use only ELBO loss (Standard optimisation)\n",
        "  - Observe the latent space and the value of KL and MSE, as well as training time\n",
        "- Switch to GECO loss (Constrained optimisation) and add the desired MSE as `constraint_value` - copy the run loop cell for easier comparison\n",
        "  - Observe the latent space and the value of KL and MSE, as well as training time\n",
        "\n",
        "\n",
        "**Question 2.1:**\n",
        "<br>\n",
        "What difference do you observe between the two optimisation approaches in terms of the latent space coverage, achieved prior-posterior matching (KL term), and the overall time to convergence?\n",
        "\n",
        "\n",
        "**Answer 2.1:**\n",
        "<br>\n",
        "ELBO: Very hard to optimise, even slower convergence than Gaussian. The latent space tiling is similar to that of Gaussian,\n",
        "<br>\n",
        "GECO: Training is much faster, latent space tiling is good as almost the whole space is tightly covered.\n",
        "\n",
        "\n",
        "**Question 2.2:**\n",
        "<br>\n",
        "How does the Gaussian prior and posterior compare to using Uniform prior and Flow posterior in terms of training performance and latent space coverage, using GECO constrained optimisation approach?\n",
        "\n",
        "\n",
        "**Answer 2.2:**\n",
        "<br>\n",
        "Although the training time is slightly longer, the latent space is densely covered. This is due to the flow distribution being a more powerful posterior, and a good match of prior and posterior."
      ]
    },
    {
      "cell_type": "markdown",
      "metadata": {
        "id": "yNtTpmsNr37a"
      },
      "source": [
        "### **TASK 3**\n",
        "Use Truncated Gaussian prior + Flow posterior:\n",
        "\n",
        "- Use only ELBO loss (Standard optimisation)\n",
        "  - Observe the latent space and the value of KL and MSE, as well as training time\n",
        "- Switch to GECO loss (Constrained optimisation) and add the desired MSE as `constraint_value` - copy the run loop cell for easier comparison\n",
        "  - Observe the latent space and the value of KL and MSE, as well as training time\n",
        "\n",
        "\n",
        "**Question 3.1:**\n",
        "<br>\n",
        "What difference do you observe between the two optimisation approaches in terms of the latent space coverage, achieved prior-posterior matching (KL term), and the overall time to convergence?\n",
        "\n",
        "\n",
        "**Answer 3.1:**\n",
        "<br>\n",
        "It is similar to TASK 2.\n",
        "\n",
        "\n",
        "**Question 3.2:**\n",
        "<br>\n",
        "How does the Truncated Gaussian prior and Flow posterior compare to using Uniform prior and Flow posterior, in terms of training performance and latent space coverage, using GECO constrained optimisation approach?\n",
        "\n",
        "\n",
        "**Answer 3.2:**\n",
        "<br>\n",
        "The training time for both are similar, and the latent space is densely covered. This shows that the Truncated Gaussian distribution acts as a good prior as well.\n",
        "<br>\n",
        "However, the tile boundaries are not as clear as in the Uniform + Flow case, which we can see in the ||MSE|| plot."
      ]
    },
    {
      "cell_type": "markdown",
      "metadata": {
        "id": "mOWkOcVsTK-g"
      },
      "source": [
        "### **TASK 4**\n",
        "\n",
        "**Question 4:** \n",
        "<br>In the Flow implementation, what happens if we don't concatenate the context and the input:\n",
        "<br>\n",
        "`conditioned_input = jnp.concatenate([x, ctx], axis=-1)`?\n",
        "\n",
        "**Answer 4:** \n",
        "<br>\n",
        "The point is that the posterior is a distribution of the latent z, conditioned on the input image x. This is a way of passing the conditioning tensor to each layer of the flow.\n",
        "If we do not pass this we lose the relation between latents and inputs."
      ]
    }
  ],
  "metadata": {
    "accelerator": "GPU",
    "colab": {
      "collapsed_sections": [
        "AnxFqR5uQDV2",
        "SBnVSo9IlcbY"
      ],
      "provenance": []
    },
    "gpuClass": "standard",
    "kernelspec": {
      "display_name": "Python 3",
      "name": "python3"
    },
    "language_info": {
      "name": "python"
    },
    "widgets": {
      "application/vnd.jupyter.widget-state+json": {
        "a7e5ec4a495a477d819e7fcd8966e108": {
          "model_module": "@jupyter-widgets/controls",
          "model_name": "HBoxModel",
          "model_module_version": "1.5.0",
          "state": {
            "_dom_classes": [],
            "_model_module": "@jupyter-widgets/controls",
            "_model_module_version": "1.5.0",
            "_model_name": "HBoxModel",
            "_view_count": null,
            "_view_module": "@jupyter-widgets/controls",
            "_view_module_version": "1.5.0",
            "_view_name": "HBoxView",
            "box_style": "",
            "children": [
              "IPY_MODEL_7ea8731716a04c8ba458ccde7fca6991",
              "IPY_MODEL_7f2452907bb54f09941a5590f856cc36",
              "IPY_MODEL_81dd84dccf964cb5aca56c77e8639efe"
            ],
            "layout": "IPY_MODEL_0568f9576d2e4d88a41af36014b225c5"
          }
        },
        "7ea8731716a04c8ba458ccde7fca6991": {
          "model_module": "@jupyter-widgets/controls",
          "model_name": "HTMLModel",
          "model_module_version": "1.5.0",
          "state": {
            "_dom_classes": [],
            "_model_module": "@jupyter-widgets/controls",
            "_model_module_version": "1.5.0",
            "_model_name": "HTMLModel",
            "_view_count": null,
            "_view_module": "@jupyter-widgets/controls",
            "_view_module_version": "1.5.0",
            "_view_name": "HTMLView",
            "description": "",
            "description_tooltip": null,
            "layout": "IPY_MODEL_5cc7238730514a7eb2c6509003382e57",
            "placeholder": "​",
            "style": "IPY_MODEL_41e6bbffbd3b4280887f0574f66deb53",
            "value": "Dl Completed...: 100%"
          }
        },
        "7f2452907bb54f09941a5590f856cc36": {
          "model_module": "@jupyter-widgets/controls",
          "model_name": "FloatProgressModel",
          "model_module_version": "1.5.0",
          "state": {
            "_dom_classes": [],
            "_model_module": "@jupyter-widgets/controls",
            "_model_module_version": "1.5.0",
            "_model_name": "FloatProgressModel",
            "_view_count": null,
            "_view_module": "@jupyter-widgets/controls",
            "_view_module_version": "1.5.0",
            "_view_name": "ProgressView",
            "bar_style": "success",
            "description": "",
            "description_tooltip": null,
            "layout": "IPY_MODEL_072ccaa352014d54b149f70a77d054bb",
            "max": 4,
            "min": 0,
            "orientation": "horizontal",
            "style": "IPY_MODEL_fc45922dfefa4a44af2aaa73fb6df5d1",
            "value": 4
          }
        },
        "81dd84dccf964cb5aca56c77e8639efe": {
          "model_module": "@jupyter-widgets/controls",
          "model_name": "HTMLModel",
          "model_module_version": "1.5.0",
          "state": {
            "_dom_classes": [],
            "_model_module": "@jupyter-widgets/controls",
            "_model_module_version": "1.5.0",
            "_model_name": "HTMLModel",
            "_view_count": null,
            "_view_module": "@jupyter-widgets/controls",
            "_view_module_version": "1.5.0",
            "_view_name": "HTMLView",
            "description": "",
            "description_tooltip": null,
            "layout": "IPY_MODEL_bfe213e0af5e4cd4bcd64ae596d30ed2",
            "placeholder": "​",
            "style": "IPY_MODEL_49e4b46102bf4daaaefe923f8d3fd229",
            "value": " 4/4 [00:01&lt;00:00,  2.02 file/s]"
          }
        },
        "0568f9576d2e4d88a41af36014b225c5": {
          "model_module": "@jupyter-widgets/base",
          "model_name": "LayoutModel",
          "model_module_version": "1.2.0",
          "state": {
            "_model_module": "@jupyter-widgets/base",
            "_model_module_version": "1.2.0",
            "_model_name": "LayoutModel",
            "_view_count": null,
            "_view_module": "@jupyter-widgets/base",
            "_view_module_version": "1.2.0",
            "_view_name": "LayoutView",
            "align_content": null,
            "align_items": null,
            "align_self": null,
            "border": null,
            "bottom": null,
            "display": null,
            "flex": null,
            "flex_flow": null,
            "grid_area": null,
            "grid_auto_columns": null,
            "grid_auto_flow": null,
            "grid_auto_rows": null,
            "grid_column": null,
            "grid_gap": null,
            "grid_row": null,
            "grid_template_areas": null,
            "grid_template_columns": null,
            "grid_template_rows": null,
            "height": null,
            "justify_content": null,
            "justify_items": null,
            "left": null,
            "margin": null,
            "max_height": null,
            "max_width": null,
            "min_height": null,
            "min_width": null,
            "object_fit": null,
            "object_position": null,
            "order": null,
            "overflow": null,
            "overflow_x": null,
            "overflow_y": null,
            "padding": null,
            "right": null,
            "top": null,
            "visibility": null,
            "width": null
          }
        },
        "5cc7238730514a7eb2c6509003382e57": {
          "model_module": "@jupyter-widgets/base",
          "model_name": "LayoutModel",
          "model_module_version": "1.2.0",
          "state": {
            "_model_module": "@jupyter-widgets/base",
            "_model_module_version": "1.2.0",
            "_model_name": "LayoutModel",
            "_view_count": null,
            "_view_module": "@jupyter-widgets/base",
            "_view_module_version": "1.2.0",
            "_view_name": "LayoutView",
            "align_content": null,
            "align_items": null,
            "align_self": null,
            "border": null,
            "bottom": null,
            "display": null,
            "flex": null,
            "flex_flow": null,
            "grid_area": null,
            "grid_auto_columns": null,
            "grid_auto_flow": null,
            "grid_auto_rows": null,
            "grid_column": null,
            "grid_gap": null,
            "grid_row": null,
            "grid_template_areas": null,
            "grid_template_columns": null,
            "grid_template_rows": null,
            "height": null,
            "justify_content": null,
            "justify_items": null,
            "left": null,
            "margin": null,
            "max_height": null,
            "max_width": null,
            "min_height": null,
            "min_width": null,
            "object_fit": null,
            "object_position": null,
            "order": null,
            "overflow": null,
            "overflow_x": null,
            "overflow_y": null,
            "padding": null,
            "right": null,
            "top": null,
            "visibility": null,
            "width": null
          }
        },
        "41e6bbffbd3b4280887f0574f66deb53": {
          "model_module": "@jupyter-widgets/controls",
          "model_name": "DescriptionStyleModel",
          "model_module_version": "1.5.0",
          "state": {
            "_model_module": "@jupyter-widgets/controls",
            "_model_module_version": "1.5.0",
            "_model_name": "DescriptionStyleModel",
            "_view_count": null,
            "_view_module": "@jupyter-widgets/base",
            "_view_module_version": "1.2.0",
            "_view_name": "StyleView",
            "description_width": ""
          }
        },
        "072ccaa352014d54b149f70a77d054bb": {
          "model_module": "@jupyter-widgets/base",
          "model_name": "LayoutModel",
          "model_module_version": "1.2.0",
          "state": {
            "_model_module": "@jupyter-widgets/base",
            "_model_module_version": "1.2.0",
            "_model_name": "LayoutModel",
            "_view_count": null,
            "_view_module": "@jupyter-widgets/base",
            "_view_module_version": "1.2.0",
            "_view_name": "LayoutView",
            "align_content": null,
            "align_items": null,
            "align_self": null,
            "border": null,
            "bottom": null,
            "display": null,
            "flex": null,
            "flex_flow": null,
            "grid_area": null,
            "grid_auto_columns": null,
            "grid_auto_flow": null,
            "grid_auto_rows": null,
            "grid_column": null,
            "grid_gap": null,
            "grid_row": null,
            "grid_template_areas": null,
            "grid_template_columns": null,
            "grid_template_rows": null,
            "height": null,
            "justify_content": null,
            "justify_items": null,
            "left": null,
            "margin": null,
            "max_height": null,
            "max_width": null,
            "min_height": null,
            "min_width": null,
            "object_fit": null,
            "object_position": null,
            "order": null,
            "overflow": null,
            "overflow_x": null,
            "overflow_y": null,
            "padding": null,
            "right": null,
            "top": null,
            "visibility": null,
            "width": null
          }
        },
        "fc45922dfefa4a44af2aaa73fb6df5d1": {
          "model_module": "@jupyter-widgets/controls",
          "model_name": "ProgressStyleModel",
          "model_module_version": "1.5.0",
          "state": {
            "_model_module": "@jupyter-widgets/controls",
            "_model_module_version": "1.5.0",
            "_model_name": "ProgressStyleModel",
            "_view_count": null,
            "_view_module": "@jupyter-widgets/base",
            "_view_module_version": "1.2.0",
            "_view_name": "StyleView",
            "bar_color": null,
            "description_width": ""
          }
        },
        "bfe213e0af5e4cd4bcd64ae596d30ed2": {
          "model_module": "@jupyter-widgets/base",
          "model_name": "LayoutModel",
          "model_module_version": "1.2.0",
          "state": {
            "_model_module": "@jupyter-widgets/base",
            "_model_module_version": "1.2.0",
            "_model_name": "LayoutModel",
            "_view_count": null,
            "_view_module": "@jupyter-widgets/base",
            "_view_module_version": "1.2.0",
            "_view_name": "LayoutView",
            "align_content": null,
            "align_items": null,
            "align_self": null,
            "border": null,
            "bottom": null,
            "display": null,
            "flex": null,
            "flex_flow": null,
            "grid_area": null,
            "grid_auto_columns": null,
            "grid_auto_flow": null,
            "grid_auto_rows": null,
            "grid_column": null,
            "grid_gap": null,
            "grid_row": null,
            "grid_template_areas": null,
            "grid_template_columns": null,
            "grid_template_rows": null,
            "height": null,
            "justify_content": null,
            "justify_items": null,
            "left": null,
            "margin": null,
            "max_height": null,
            "max_width": null,
            "min_height": null,
            "min_width": null,
            "object_fit": null,
            "object_position": null,
            "order": null,
            "overflow": null,
            "overflow_x": null,
            "overflow_y": null,
            "padding": null,
            "right": null,
            "top": null,
            "visibility": null,
            "width": null
          }
        },
        "49e4b46102bf4daaaefe923f8d3fd229": {
          "model_module": "@jupyter-widgets/controls",
          "model_name": "DescriptionStyleModel",
          "model_module_version": "1.5.0",
          "state": {
            "_model_module": "@jupyter-widgets/controls",
            "_model_module_version": "1.5.0",
            "_model_name": "DescriptionStyleModel",
            "_view_count": null,
            "_view_module": "@jupyter-widgets/base",
            "_view_module_version": "1.2.0",
            "_view_name": "StyleView",
            "description_width": ""
          }
        }
      }
    }
  },
  "nbformat": 4,
  "nbformat_minor": 0
}